{
 "cells": [
  {
   "cell_type": "markdown",
   "id": "f1fa8a3e",
   "metadata": {},
   "source": [
    "# Installation"
   ]
  },
  {
   "cell_type": "markdown",
   "id": "c5375962",
   "metadata": {},
   "source": [
    "#### Dowload the package from https://github.com/JinmiaoChenLab/DeepST/"
   ]
  },
  {
   "cell_type": "markdown",
   "id": "cad76dcd",
   "metadata": {},
   "source": [
    "cd DeepST-main\n",
    "python setup.py build\n",
    "python setup.py install --user"
   ]
  }
 ],
 "metadata": {
  "kernelspec": {
   "display_name": "long",
   "language": "python",
   "name": "long"
  },
  "language_info": {
   "codemirror_mode": {
    "name": "ipython",
    "version": 3
   },
   "file_extension": ".py",
   "mimetype": "text/x-python",
   "name": "python",
   "nbconvert_exporter": "python",
   "pygments_lexer": "ipython3",
   "version": "3.8.0"
  }
 },
 "nbformat": 4,
 "nbformat_minor": 5
}
