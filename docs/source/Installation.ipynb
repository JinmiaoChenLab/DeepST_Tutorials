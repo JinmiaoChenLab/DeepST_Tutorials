{
 "cells": [
  {
   "cell_type": "markdown",
   "id": "f1fa8a3e",
   "metadata": {},
   "source": [
    "# Installation"
   ]
  },
  {
   "cell_type": "markdown",
   "id": "d1ad3eee",
   "metadata": {},
   "source": [
    "The DeepST package is developed based on the pytorch framework and can be implemented with both GPU and CPU. \n",
    "We recommend running the package with GPU. Please ensure that pytorch and CUDNN are installed correctly. For the version information, please refer to requirement.txt. We provide two ways to install the package of DeepST."
   ]
  },
  {
   "cell_type": "markdown",
   "id": "098ef3c7",
   "metadata": {},
   "source": [
    "# 1. Github"
   ]
  },
  {
   "cell_type": "markdown",
   "id": "6275d015",
   "metadata": {},
   "source": [
    "<font face=\"黑体\" size=5 color=#000000 > Dowloading the package from https://github.com/JinmiaoChenLab/DeepST/\n",
    "    \n",
    "    "
   ]
  },
  {
   "cell_type": "markdown",
   "id": "1894e34b",
   "metadata": {},
   "source": [
    "git clone https://github.com/JinmiaoChenLab/DeepST\n",
    "\n",
    "cd DeepST-main\n",
    "\n",
    "python setup.py build\n",
    "\n",
    "python setup.py install --user"
   ]
  },
  {
   "cell_type": "markdown",
   "id": "7e42d2c8",
   "metadata": {},
   "source": [
    "# 2. Anaconda"
   ]
  },
  {
   "cell_type": "markdown",
   "id": "1a52aa6f",
   "metadata": {},
   "source": [
    "For convenience, we suggest using a separate conda environment for running DeepST. Please ensure annaconda3 is installed.\n",
    "\n",
    "Create conda environment and install DeepST package."
   ]
  },
  {
   "cell_type": "markdown",
   "id": "c236a088",
   "metadata": {},
   "source": [
    "#create an environment called DeepST\n",
    "\n",
    "conda create -n DeepST python=3.8\n",
    "\n",
    "#activate your environment\n",
    "\n",
    "conda activate DeepST\n",
    "\n",
    "#install package\n",
    "\n",
    "git clone https://github.com/JinmiaoChenLab/DeepST\n",
    "\n",
    "cd DeepST-main  \n",
    "\n",
    "python setup.py build\n",
    "\n",
    "python setup.py install --user"
   ]
  }
 ],
 "metadata": {
  "kernelspec": {
   "display_name": "long",
   "language": "python",
   "name": "long"
  },
  "language_info": {
   "codemirror_mode": {
    "name": "ipython",
    "version": 3
   },
   "file_extension": ".py",
   "mimetype": "text/x-python",
   "name": "python",
   "nbconvert_exporter": "python",
   "pygments_lexer": "ipython3",
   "version": "3.8.0"
  }
 },
 "nbformat": 4,
 "nbformat_minor": 5
}
