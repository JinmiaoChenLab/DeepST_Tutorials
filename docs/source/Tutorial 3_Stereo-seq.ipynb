{
 "cells": [
  {
   "cell_type": "markdown",
   "id": "3b6e39a7",
   "metadata": {},
   "source": [
    "# Tutorial 3: Stereo-seq"
   ]
  },
  {
   "cell_type": "markdown",
   "id": "9014c08b",
   "metadata": {},
   "source": [
    "In this tutorial, we show how to apply DeepST to Stereo-seq data for spatial domains identification. We take mouse olfactory bulk data as example and set the number of clusters as 7.\n",
    "\n",
    "The preprocessed data can be accessed via https://zenodo.org/record/6925603#.YuM5WXZBwuU."
   ]
  },
  {
   "cell_type": "code",
   "execution_count": 25,
   "id": "8725372c",
   "metadata": {},
   "outputs": [],
   "source": [
    "import os\n",
    "import torch\n",
    "import pandas as pd\n",
    "import scanpy as sc\n",
    "from sklearn import metrics\n",
    "import multiprocessing as mp"
   ]
  },
  {
   "cell_type": "code",
   "execution_count": 26,
   "id": "5a8597e5",
   "metadata": {},
   "outputs": [],
   "source": [
    "from DeepST import DeepST"
   ]
  },
  {
   "cell_type": "code",
   "execution_count": 27,
   "id": "a08fe59c",
   "metadata": {},
   "outputs": [],
   "source": [
    "dataset = 'Mouse_Olfactory'"
   ]
  },
  {
   "cell_type": "code",
   "execution_count": 28,
   "id": "0dfa3640",
   "metadata": {},
   "outputs": [],
   "source": [
    "# set random seed\n",
    "random_seed = 50 \n",
    "DeepST.fix_seed(random_seed)"
   ]
  },
  {
   "cell_type": "code",
   "execution_count": 29,
   "id": "06a631be",
   "metadata": {},
   "outputs": [],
   "source": [
    "# Run device\n",
    "device = torch.device('cuda:3' if torch.cuda.is_available() else 'cpu')\n",
    "\n",
    "# the location of R \n",
    "os.environ['R_HOME'] = '/scbio4/tools/R/R-4.0.3_openblas/R-4.0.3'"
   ]
  },
  {
   "cell_type": "code",
   "execution_count": 30,
   "id": "2a1b371a",
   "metadata": {},
   "outputs": [],
   "source": [
    "# the number of clusters\n",
    "n_clusters = 7"
   ]
  },
  {
   "cell_type": "code",
   "execution_count": 31,
   "id": "d50cd367",
   "metadata": {},
   "outputs": [],
   "source": [
    "# read data\n",
    "file_path = '/home/yahui/anaconda3/work/CellCluster_DEC/data/Mouse_Olfactory/'\n",
    "adata = sc.read_h5ad(file_path + 'filtered_feature_bc_matrix.h5ad')\n",
    "adata.var_names_make_unique()"
   ]
  },
  {
   "cell_type": "code",
   "execution_count": 32,
   "id": "bcc84c3f",
   "metadata": {},
   "outputs": [
    {
     "name": "stderr",
     "output_type": "stream",
     "text": [
      "/home/yahui/anaconda3/envs/long/lib/python3.8/site-packages/scanpy/preprocessing/_highly_variable_genes.py:62: UserWarning: `flavor='seurat_v3'` expects raw count data, but non-integers were found.\n",
      "  warnings.warn(\n"
     ]
    }
   ],
   "source": [
    "# filter out genes expressed in less than 50 beads \n",
    "sc.pp.filter_genes(adata, min_cells=50)\n",
    "\n",
    "# preprocessing for ST data\n",
    "DeepST.preprocess(adata)\n",
    "\n",
    "# built graph\n",
    "DeepST.construct_interaction(adata)\n",
    "DeepST.add_contrastive_label(adata)"
   ]
  },
  {
   "cell_type": "code",
   "execution_count": 38,
   "id": "a098f21e",
   "metadata": {},
   "outputs": [],
   "source": [
    "# get features\n",
    "DeepST.get_feature(adata)"
   ]
  },
  {
   "cell_type": "code",
   "execution_count": 39,
   "id": "ba07e3a9",
   "metadata": {},
   "outputs": [
    {
     "data": {
      "text/plain": [
       "AnnData object with n_obs × n_vars = 19109 × 14376\n",
       "    obs: 'n_genes_by_counts', 'log1p_n_genes_by_counts', 'total_counts', 'log1p_total_counts', 'pct_counts_in_top_50_genes', 'pct_counts_in_top_100_genes', 'pct_counts_in_top_200_genes', 'pct_counts_in_top_500_genes'\n",
       "    var: 'n_cells_by_counts', 'mean_counts', 'log1p_mean_counts', 'pct_dropout_by_counts', 'total_counts', 'log1p_total_counts', 'n_cells', 'highly_variable', 'highly_variable_rank', 'means', 'variances', 'variances_norm', 'mean', 'std'\n",
       "    uns: 'hvg', 'log1p'\n",
       "    obsm: 'spatial', 'distance_matrix', 'graph_neigh', 'adj', 'label_CSL', 'feat', 'feat_a', 'emb'"
      ]
     },
     "execution_count": 39,
     "metadata": {},
     "output_type": "execute_result"
    }
   ],
   "source": [
    "adata"
   ]
  },
  {
   "cell_type": "code",
   "execution_count": 40,
   "id": "0e4df326",
   "metadata": {},
   "outputs": [
    {
     "name": "stdout",
     "output_type": "stream",
     "text": [
      "Begin to train ST data...\n"
     ]
    },
    {
     "name": "stderr",
     "output_type": "stream",
     "text": [
      "100%|████████████████████████████████████████████████████████████████████████████████████████| 600/600 [01:28<00:00,  6.76it/s]\n"
     ]
    },
    {
     "name": "stdout",
     "output_type": "stream",
     "text": [
      "Optimization finished for ST data!\n"
     ]
    }
   ],
   "source": [
    "# define and run model\n",
    "model = DeepST.Train(adata, device=device)\n",
    "adata.obsm['emb'] = model.train()"
   ]
  },
  {
   "cell_type": "code",
   "execution_count": 41,
   "id": "abfd834a",
   "metadata": {},
   "outputs": [
    {
     "data": {
      "text/plain": [
       "AnnData object with n_obs × n_vars = 19109 × 14376\n",
       "    obs: 'n_genes_by_counts', 'log1p_n_genes_by_counts', 'total_counts', 'log1p_total_counts', 'pct_counts_in_top_50_genes', 'pct_counts_in_top_100_genes', 'pct_counts_in_top_200_genes', 'pct_counts_in_top_500_genes'\n",
       "    var: 'n_cells_by_counts', 'mean_counts', 'log1p_mean_counts', 'pct_dropout_by_counts', 'total_counts', 'log1p_total_counts', 'n_cells', 'highly_variable', 'highly_variable_rank', 'means', 'variances', 'variances_norm', 'mean', 'std'\n",
       "    uns: 'hvg', 'log1p'\n",
       "    obsm: 'spatial', 'distance_matrix', 'graph_neigh', 'adj', 'label_CSL', 'feat', 'feat_a', 'emb'"
      ]
     },
     "execution_count": 41,
     "metadata": {},
     "output_type": "execute_result"
    }
   ],
   "source": [
    "adata"
   ]
  },
  {
   "cell_type": "code",
   "execution_count": 43,
   "id": "053e0984",
   "metadata": {},
   "outputs": [],
   "source": [
    "# clustering\n",
    "#from DeepST.utils import clustering\n",
    "#clustering(adata, n_clusters, refinement=False)"
   ]
  },
  {
   "cell_type": "code",
   "execution_count": 44,
   "id": "4aaf32f6",
   "metadata": {},
   "outputs": [],
   "source": [
    "# plotting spatial clustering result\n",
    "#plt.rcParams[\"figure.figsize\"] = (4, 3)\n",
    "#sc.pl.embedding(adata, basis=\"spatial\", color=\"label\",s=6, show=False, title='DeepST')"
   ]
  },
  {
   "cell_type": "code",
   "execution_count": null,
   "id": "88053a27",
   "metadata": {},
   "outputs": [],
   "source": []
  }
 ],
 "metadata": {
  "kernelspec": {
   "display_name": "long",
   "language": "python",
   "name": "long"
  },
  "language_info": {
   "codemirror_mode": {
    "name": "ipython",
    "version": 3
   },
   "file_extension": ".py",
   "mimetype": "text/x-python",
   "name": "python",
   "nbconvert_exporter": "python",
   "pygments_lexer": "ipython3",
   "version": "3.8.0"
  }
 },
 "nbformat": 4,
 "nbformat_minor": 5
}
