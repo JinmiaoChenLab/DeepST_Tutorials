{
 "cells": [
  {
   "cell_type": "markdown",
   "id": "92658f0e",
   "metadata": {},
   "source": [
    "# Tutorial 2: scRNA and ST data integration (deconvolution)"
   ]
  },
  {
   "cell_type": "markdown",
   "id": "280b5309",
   "metadata": {},
   "source": [
    "In this tutorial, we show how to apply DeepST to integrate scRNA-seq and ST data, i.e., deconvolution. Taking human lymph node dataset as example, both scRNA-seq and ST data were downloaded from an existing study by Kleshchevnikov et al. and provided at https://drive.google.com/drive/folders/1ns-EsWBu-SNrJ39j-q-AFIV5U-aXFwXf. \n",
    "\n",
    "After downloading the data, we can obtain 'scRNA.h5ad' and 'ST.h5ad' files, which are corresponding reference and spatial transcriptomics data respectively. Cell type information is included in scRNA.obs['cell_type'].  "
   ]
  },
  {
   "cell_type": "code",
   "execution_count": 1,
   "id": "ff4ab258",
   "metadata": {},
   "outputs": [],
   "source": [
    "import scanpy as sc\n",
    "from DeepST import DeepST"
   ]
  },
  {
   "cell_type": "code",
   "execution_count": 2,
   "id": "9559df65",
   "metadata": {},
   "outputs": [],
   "source": [
    "dataset = 'Human_Lymph_Node'"
   ]
  },
  {
   "cell_type": "code",
   "execution_count": 3,
   "id": "a2d40ab7",
   "metadata": {},
   "outputs": [],
   "source": [
    "# set random seed\n",
    "random_seed = 50 \n",
    "DeepST.fix_seed(random_seed)"
   ]
  },
  {
   "cell_type": "code",
   "execution_count": 4,
   "id": "034d8b06",
   "metadata": {},
   "outputs": [],
   "source": [
    "# read ST data\n",
    "file_fold = '/home/yahui/Yahui/Projects/data/Human_Lymph_Node/' #Please replace it with the ST download path \n",
    "adata = sc.read_h5ad(file_fold + 'ST.h5ad')\n",
    "    \n",
    "#For '10X' ST data, please read it instead as:\n",
    "#file_fold = '/home/yahui/Yahui/Projects/data/' + str(dataset) #Please replace it with the ST download path \n",
    "#adata = sc.read_visium(file_fold, count_file='filtered_feature_bc_matrix.h5', load_images=True)\n",
    "\n",
    "adata.var_names_make_unique()"
   ]
  },
  {
   "cell_type": "code",
   "execution_count": 5,
   "id": "e902dd64",
   "metadata": {},
   "outputs": [],
   "source": [
    "# preprocessing for ST data\n",
    "DeepST.preprocess(adata)\n",
    "\n",
    "# build graph\n",
    "DeepST.construct_interaction(adata)\n",
    "DeepST.add_contrastive_label(adata)"
   ]
  },
  {
   "cell_type": "code",
   "execution_count": 6,
   "id": "c51b32f8",
   "metadata": {},
   "outputs": [],
   "source": [
    "# read scRNA daa\n",
    "file_path = '/home/yahui/Yahui/Projects/data/Human_Lymph_Node/scRNA.h5ad' #Please replace it with the scRNA download path. \n",
    "adata_sc = sc.read(file_path)\n",
    "adata_sc.var_names_make_unique()"
   ]
  },
  {
   "cell_type": "code",
   "execution_count": 7,
   "id": "f3a65cd0",
   "metadata": {},
   "outputs": [],
   "source": [
    "# preprocessing for scRNA data\n",
    "DeepST.preprocess(adata_sc)"
   ]
  },
  {
   "cell_type": "code",
   "execution_count": 8,
   "id": "9eb6e152",
   "metadata": {},
   "outputs": [
    {
     "name": "stdout",
     "output_type": "stream",
     "text": [
      "Number of overlap genes: 1313\n"
     ]
    },
    {
     "name": "stderr",
     "output_type": "stream",
     "text": [
      "/home/yahui/anaconda3/envs/long/lib/python3.8/site-packages/anndata/compat/_overloaded_dict.py:106: ImplicitModificationWarning: Trying to modify attribute `._uns` of view, initializing view as actual.\n",
      "  self.data[key] = value\n"
     ]
    }
   ],
   "source": [
    "# find overlap genes\n",
    "from DeepST.preprocess import filter_with_overlap_gene\n",
    "adata, adata_sc = filter_with_overlap_gene(adata, adata_sc)"
   ]
  },
  {
   "cell_type": "code",
   "execution_count": 9,
   "id": "4a2d7a55",
   "metadata": {},
   "outputs": [],
   "source": [
    "# get features\n",
    "DeepST.get_feature(adata)\n",
    "\n",
    "#print('adata:', adata)\n",
    "#print('adata_sc:', adata_sc)"
   ]
  },
  {
   "cell_type": "code",
   "execution_count": null,
   "id": "15fe0831",
   "metadata": {},
   "outputs": [
    {
     "name": "stdout",
     "output_type": "stream",
     "text": [
      "Begin to train ST data...\n"
     ]
    },
    {
     "name": "stderr",
     "output_type": "stream",
     "text": [
      "100%|███████████████████████████████████████| 1200/1200 [00:14<00:00, 81.48it/s]\n"
     ]
    },
    {
     "name": "stdout",
     "output_type": "stream",
     "text": [
      "Optimization finished for ST data!\n",
      "Begin to train scRNA data...\n"
     ]
    },
    {
     "name": "stderr",
     "output_type": "stream",
     "text": [
      "100%|███████████████████████████████████████| 1200/1200 [00:20<00:00, 59.75it/s]\n"
     ]
    },
    {
     "name": "stdout",
     "output_type": "stream",
     "text": [
      "Optimization finished for cell representation learning!\n",
      "Begin to learn mapping matrix...\n"
     ]
    },
    {
     "name": "stderr",
     "output_type": "stream",
     "text": [
      " 96%|█████████████████████████████████████▏ | 1146/1200 [01:56<00:05,  9.72it/s]"
     ]
    }
   ],
   "source": [
    "# Train model\n",
    "model = DeepST.Train(adata, adata_sc, epochs=1200, deconvolution=True)\n",
    "adata, adata_sc = model.train_map()"
   ]
  },
  {
   "cell_type": "markdown",
   "id": "a9f4382d",
   "metadata": {},
   "source": [
    "After model training, we can obtain the learned mapping matrix with dimension 'n_spot x n_cell' in adata.obsm['map_matrix']. \n",
    "Each element in the mapping matrix denotes the mapping probability of a cell in a given spot. To filter out noise, we only consider\n",
    "the top 'retain_percent' cell values for each spot.\n",
    "\n",
    "We usually set the 'retain_percent' value as 0.15. Users can change the parameter according to your requirement. "
   ]
  },
  {
   "cell_type": "code",
   "execution_count": null,
   "id": "4ecce38f",
   "metadata": {},
   "outputs": [],
   "source": [
    "# Project cells into spatial space\n",
    "from DeepST.utils import project_cell_to_spot\n",
    "project_cell_to_spot(adata, adata_sc, retain_percent=0.15)"
   ]
  },
  {
   "cell_type": "markdown",
   "id": "6c8656a8",
   "metadata": {},
   "source": [
    "After projection, the probability distributions of each cell type in spots are saved in adata.obs."
   ]
  },
  {
   "cell_type": "code",
   "execution_count": null,
   "id": "02577fc0",
   "metadata": {},
   "outputs": [],
   "source": [
    "adata"
   ]
  },
  {
   "cell_type": "code",
   "execution_count": null,
   "id": "2ed18379",
   "metadata": {},
   "outputs": [],
   "source": [
    "# Visualization of spatial distribution of scRNA-seq data\n",
    "import matplotlib as mpl\n",
    "with mpl.rc_context({'axes.facecolor':  'black',\n",
    "                     'figure.figsize': [4.5, 5]}):\n",
    "\n",
    "         sc.pl.spatial(adata, cmap='magma',\n",
    "                  # selected cell types\n",
    "                  color=['B_Cycling', 'B_GC_LZ', 'B_GC_DZ', 'B_GC_prePB'],\n",
    "                  ncols=4, size=1.3,\n",
    "                  img_key='hires',\n",
    "                  # limit color scale at 99.2% quantile of cell abundance\n",
    "                  vmin=0, vmax='p99.2'\n",
    "                 )"
   ]
  },
  {
   "cell_type": "code",
   "execution_count": null,
   "id": "e62e9526",
   "metadata": {},
   "outputs": [],
   "source": []
  }
 ],
 "metadata": {
  "kernelspec": {
   "display_name": "long",
   "language": "python",
   "name": "long"
  },
  "language_info": {
   "codemirror_mode": {
    "name": "ipython",
    "version": 3
   },
   "file_extension": ".py",
   "mimetype": "text/x-python",
   "name": "python",
   "nbconvert_exporter": "python",
   "pygments_lexer": "ipython3",
   "version": "3.8.0"
  }
 },
 "nbformat": 4,
 "nbformat_minor": 5
}
